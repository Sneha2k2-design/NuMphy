{
 "cells": [
  {
   "cell_type": "raw",
   "id": "73e3e43d-47cf-413e-9f64-d297febf4f63",
   "metadata": {},
   "source": [
    "#1.1. Explain the purpose and advantages of NumPy in scientific computing and data analysis. How does it\n",
    "# enhance Python's capabilities for numerical operations"
   ]
  },
  {
   "cell_type": "code",
   "execution_count": 1,
   "id": "cfdddb61-42a1-4d91-8c88-85c1e0a4df91",
   "metadata": {},
   "outputs": [],
   "source": [
    "#NumPy, short for Numerical Python, is a fundamental library for scientific computing and data analysis in Python. Here are some key purposes and advantages of using NumPy:\n",
    "\n",
    "#Purpose of NumPy\n",
    "#@Efficient Array Computations: NumPy provides support for large, multi-dimensional arrays and matrices, along with a collection of mathematical functions to operate on these arrays efficiently.\n",
    "#@Foundation for Other Libraries: Many other scientific computing libraries, such as Pandas, SciPy, and Matplotlib, are built on top of NumPy, making it a cornerstone of the Python data science ecosystem1.\n",
    "#Advantages of NumPy\n",
    "#1Performance: NumPy is highly optimized for numerical operations. It uses pre-compiled C code, which makes array operations significantly faster than using Python lists1.\n",
    "#2Memory Efficiency: NumPy arrays consume less memory compared to Python lists. This is because NumPy arrays are stored in contiguous blocks of memory, which allows for efficient access and manipulation2.\n",
    "#3Vectorization: NumPy allows for vectorized operations, which means you can perform element-wise operations on entire arrays without the need for explicit loops. This not only makes the code more readable but also faster2.\n",
    "#4Broadcasting: NumPy supports broadcasting, a powerful mechanism that allows arithmetic operations on arrays of different shapes. This feature simplifies the code and enhances performance2.\n",
    "#5Integration with Other Libraries: NumPy seamlessly integrates with other scientific computing libraries, making it easier to perform complex data analysis and visualization tasks3.\n",
    "##Enhancing Python’s Capabilities\n",
    "#1Mathematical Functions: NumPy provides a wide range of mathematical functions, including trigonometric, statistical, and algebraic operations, which are not available in standard Python3.\n",
    "#2Linear Algebra: It includes functions for linear algebra operations, such as matrix multiplication, eigenvalue computation, and singular value decomposition3.\n",
    "#3Random Number Generation: NumPy has a robust random number generation module, which is essential for simulations and probabilistic modeling3.\n",
    "##In summary, NumPy enhances Python’s capabilities by providing efficient, memory-saving, and high-performance tools for numerical operations, making it indispensable for scientific computing and data analysis.'''\n",
    "\n"
   ]
  },
  {
   "cell_type": "code",
   "execution_count": 2,
   "id": "e2b75967-ac87-4b8d-9b28-ba6f1a2c28c8",
   "metadata": {},
   "outputs": [
    {
     "name": "stdout",
     "output_type": "stream",
     "text": [
      "Mean: 3.0\n",
      "Average: 3.0\n",
      "Weighted Average: 3.6666666666666665\n"
     ]
    }
   ],
   "source": [
    "#2. Compare and contrast np.mean() and np.average() functions in NumPy. When would you use one over the other?\n",
    "##np.mean()\n",
    "#Syntax: np.mean(arr, axis=None)\n",
    "#arr: The input array.\n",
    "#axis: Axis along which the means are computed. If not specified, the mean of the flattened array is calculated.\n",
    "#Weights: Does not support weights; all elements are considered equally.\n",
    "#Use Case: Use np.mean() when you need to calculate the simple arithmetic mean of an array without considering any weights.\n",
    "##np.average()\n",
    "#Purpose: Calculates the weighted average of the elements in an array.\n",
    "#Syntax: np.average(arr, axis=None, weights=None)\n",
    "#arr: The input array.\n",
    "#axis: Axis along which the averages are computed. If not specified, the average of the flattened array is calculated.\n",
    "#weights: An array of weights associated with the values in arr. If not specified, it calculates the simple arithmetic mean, similar to np.mean().\n",
    "#Weights: Supports weights, allowing for the calculation of a weighted average.\n",
    "#Use Case: Use np.average() when you need to calculate a weighted average, where different elements have different levels of importance.\n",
    "##Comparison Example\n",
    "\n",
    "import numpy as np\n",
    "\n",
    "data = [1, 2, 3, 4, 5]\n",
    "\n",
    "# Using np.mean()\n",
    "mean_value = np.mean(data)\n",
    "print(\"Mean:\", mean_value)  \n",
    "\n",
    "# Using np.average() without weights\n",
    "average_value = np.average(data)\n",
    "print(\"Average:\", average_value)  \n",
    "\n",
    "# Using np.average() with weights\n",
    "weights = [1, 2, 3, 4, 5]\n",
    "weighted_average_value = np.average(data, weights=weights)\n",
    "print(\"Weighted Average:\", weighted_average_value)  \n"
   ]
  },
  {
   "cell_type": "code",
   "execution_count": 5,
   "id": "5881308c-cabf-41ee-be7f-a70297504cdf",
   "metadata": {},
   "outputs": [
    {
     "name": "stdout",
     "output_type": "stream",
     "text": [
      "Original array: [1 2 3 4 5]\n",
      "Reversed array: [5 4 3 2 1]\n",
      "Original array:\n",
      " [[1 2 3]\n",
      " [4 5 6]\n",
      " [7 8 9]]\n",
      "Reversed array:\n",
      " [[9 8 7]\n",
      " [6 5 4]\n",
      " [3 2 1]]\n",
      "Reversed array using np.flip: [[9 8 7]\n",
      " [6 5 4]\n",
      " [3 2 1]]\n",
      "Reversed along rows:\n",
      " [[7 8 9]\n",
      " [4 5 6]\n",
      " [1 2 3]]\n",
      "Reversed along columns:\n",
      " [[3 2 1]\n",
      " [6 5 4]\n",
      " [9 8 7]]\n",
      "Flipped vertically:\n",
      " [[7 8 9]\n",
      " [4 5 6]\n",
      " [1 2 3]]\n",
      "Flipped horizontally:\n",
      " [[3 2 1]\n",
      " [6 5 4]\n",
      " [9 8 7]]\n",
      "Flattened and reversed array: [9 8 7 6 5 4 3 2 1]\n"
     ]
    }
   ],
   "source": [
    "#3. Describe the methods for reversing a NumPy array along different axes. Provide examples for 1D and 2D arrays\n",
    "#1. Using Slicing\n",
    "#Slicing is a straightforward way to reverse arrays.\n",
    "\n",
    "#1D Array\n",
    "\n",
    "\n",
    "import numpy as np\n",
    "\n",
    "arr = np.array([1, 2, 3, 4, 5])\n",
    "reversed_arr = arr[::-1]\n",
    "print(\"Original array:\", arr)  # Output: [1, 2, 3, 4, 5]\n",
    "print(\"Reversed array:\", reversed_arr)  # Output: [5, 4, 3, 2, 1]\n",
    "\n",
    "#2D Array\n",
    "\n",
    "\n",
    "arr = np.array([[1, 2, 3], [4, 5, 6], [7, 8, 9]])\n",
    "reversed_arr = arr[::-1, ::-1]\n",
    "print(\"Original array:\\n\", arr)\n",
    "\n",
    "print(\"Reversed array:\\n\", reversed_arr)\n",
    "\n",
    "\n",
    "#2. Using np.flip()\n",
    "\n",
    "\n",
    "#1D Array\n",
    "\n",
    "reversed_arr = np.flip(arr)\n",
    "print(\"Reversed array using np.flip:\", reversed_arr)  \n",
    "\n",
    "\n",
    "reversed_arr = np.flip(arr, axis=0)  # Reverse along rows\n",
    "print(\"Reversed along rows:\\n\", reversed_arr)\n",
    "\n",
    "reversed_arr = np.flip(arr, axis=1)  # Reverse along columns\n",
    "print(\"Reversed along columns:\\n\", reversed_arr)\n",
    "\n",
    "\n",
    "#. Using np.flipud() and np.fliplr()\n",
    "#These functions are specialized for flipping arrays vertically and horizontally.\n",
    "\n",
    "#2D Array\n",
    "\n",
    "\n",
    "reversed_arr = np.flipud(arr)  # Flip vertically\n",
    "print(\"Flipped vertically:\\n\", reversed_arr)\n",
    "\n",
    "\n",
    "reversed_arr = np.fliplr(arr)  # Flip horizontally\n",
    "print(\"Flipped horizontally:\\n\", reversed_arr)\n",
    "\n",
    "\n",
    "#This method flattens the array into a 1D array and then reverses it.\n",
    "\n",
    "#2D Array\n",
    "\n",
    "\n",
    "flattened_arr = arr.flatten()[::-1]\n",
    "print(\"Flattened and reversed array:\", flattened_arr)\n",
    "\n"
   ]
  },
  {
   "cell_type": "code",
   "execution_count": 8,
   "id": "fefd4b00-5b6c-46e9-bc16-6c18eecd9bf3",
   "metadata": {},
   "outputs": [
    {
     "name": "stdout",
     "output_type": "stream",
     "text": [
      "Array: [1 2 3 4 5]\n",
      "Data type: int64\n",
      "Array: [1. 2. 3.]\n",
      "Data type: float64\n",
      "Sum of int32 array: 49999995000000\n",
      "Time taken for\n"
     ]
    }
   ],
   "source": [
    "#4. How can you determine the data type of elements in a NumPy array? Discuss the importance of data types\n",
    "#in memory management and performance.\n",
    "##Determining the Data Type of Elements in a NumPy Array\n",
    "#To determine the data type of elements in a NumPy array, you can use the dtype attribute. This attribute provides information about the type of elements stored in the array.\n",
    "\n",
    "\n",
    "\n",
    "import numpy as np\n",
    "\n",
    "# Create an array of integers\n",
    "arr = np.array([1, 2, 3, 4, 5])\n",
    "print(\"Array:\", arr)\n",
    "print(\"Data type:\", arr.dtype) \n",
    "\n",
    "# Create an array of floats\n",
    "arr_float = np.array([1.0, 2.0, 3.0])\n",
    "print(\"Array:\", arr_float)\n",
    "print(\"Data type:\", arr_float.dtype)  \n",
    "\n",
    "\n",
    "\n",
    "##1. Memory Allocation\n",
    "#Efficiency: Different data types require different amounts of memory. For example, an int32 type uses 4 bytes, while a float64 type uses 8 bytes. Choosing the appropriate data type ensures efficient memory usage1.\n",
    "#Optimization: Using smaller data types for large datasets can significantly reduce memory consumption, which is especially important in environments with limited resources.\n",
    "#2. Performance\n",
    "#Speed: Operations on smaller data types are generally faster because they require less memory bandwidth and cache usage. For instance, arithmetic operations on int32 are faster than on int642.\n",
    "#Vectorization: NumPy leverages vectorized operations, which are optimized for specific data types. Using the correct data type can enhance the performance of these operations.\n",
    "#3. Data Integrity\n",
    "#Precision: Different data types offer different levels of precision. For example, float32 provides less precision than float64. Choosing the right data type ensures that calculations are accurate and data integrity is maintained3.\n",
    "#Compatibility: Ensuring that data types are compatible with other systems or libraries can prevent errors and improve interoperability.\n",
    "#Example of Memory and Performance Impact\n",
    "\n",
    "\n",
    "import numpy as np\n",
    "import time\n",
    "\n",
    "# Large array of integers\n",
    "large_int_array = np.arange(1e7, dtype='int32')\n",
    "start_time = time.time()\n",
    "sum_int = np.sum(large_int_array)\n",
    "print(\"Sum of int32 array:\", sum_int)\n",
    "print(\"Time taken for\")\n"
   ]
  },
  {
   "cell_type": "code",
   "execution_count": 1,
   "id": "fe7d157b-d155-46d7-9d99-4f5689098659",
   "metadata": {},
   "outputs": [],
   "source": [
    "#5. Define ndarrays in NumPy and explain their key features. How do they differ from standard Python lists?\n",
    "\n",
    "\n"
   ]
  },
  {
   "cell_type": "code",
   "execution_count": 3,
   "id": "7378aba1-7df0-4624-8148-8b6532369a6d",
   "metadata": {},
   "outputs": [
    {
     "name": "stdout",
     "output_type": "stream",
     "text": [
      "Array:\n",
      " [[1 2 3]\n",
      " [4 5 6]]\n",
      "Type: <class 'numpy.ndarray'>\n",
      "Number of dimensions: 2\n",
      "Shape: (2, 3)\n",
      "Size: 6\n",
      "Data type: int64\n"
     ]
    }
   ],
   "source": [
    "##NumPy ndarrays (N-dimensional arrays) are a core feature of the NumPy library, designed for efficient numerical computation. Here are some key features and differences compared to standard Python lists:\n",
    "\n",
    "## Features of NumPy ndarrays:\n",
    "#1Homogeneous Data: All elements in an ndarray are of the same data type, ensuring efficient memory usage and performance1.\n",
    "#2N-Dimensional: ndarrays can have multiple dimensions (1D, 2D, 3D, etc.), making them suitable for complex data structures like matrices and tensors1.\n",
    "#3Fixed Size: The size of an ndarray is fixed at creation. Changing the size requires creating a new array2.\n",
    "#4Vectorized Operations: NumPy supports element-wise operations and broadcasting, allowing for efficient and concise mathematical computations without explicit loops3.\n",
    "#5Advanced Indexing and Slicing: ndarrays support sophisticated indexing and slicing techniques, enabling easy manipulation of array subsets1.\n",
    "#6Built-in Functions: NumPy provides a wide range of functions for mathematical operations, linear algebra, random number generation, and more3.\n",
    "##Differences from Standard Python Lists:\n",
    "#1Performance: ndarrays are more efficient in terms of speed and memory usage due to their homogeneous nature and optimized C-based implementation1.\n",
    "#1Functionality: NumPy offers a rich set of functions for array manipulation and mathematical operations, which are not available for standard Python lists3.\n",
    "#2Memory Layout: ndarrays store elements in contiguous memory locations, which enhances performance for large datasets2.\n",
    "#3Fixed Size: Unlike Python lists, which can grow dynamically, ndarrays have a fixed size. Modifying the size requires creating a new array2.\n",
    "#$Data Type Consistency: All elements in an ndarray must be of the same data type, whereas Python lists can contain elements of different types1.\n",
    "\n",
    "\n",
    "\n",
    "\n",
    "import numpy as np\n",
    "\n",
    "# Creating a 2D array\n",
    "arr = np.array([[1, 2, 3], [4, 5, 6]])\n",
    "\n",
    "print(\"Array:\\n\", arr)\n",
    "print(\"Type:\", type(arr))\n",
    "print(\"Number of dimensions:\", arr.ndim)\n",
    "print(\"Shape:\", arr.shape)\n",
    "print(\"Size:\", arr.size)\n",
    "print(\"Data type:\", arr.dtype)\n",
    "\n"
   ]
  },
  {
   "cell_type": "code",
   "execution_count": 4,
   "id": "bcf5cdde-32c6-4624-84bc-5890815996cf",
   "metadata": {},
   "outputs": [
    {
     "name": "stdout",
     "output_type": "stream",
     "text": [
      "NumPy array time: 0.003922224044799805\n",
      "Python list time: 0.16055607795715332\n"
     ]
    }
   ],
   "source": [
    "#6. Analyze the performance benefits of NumPy arrays over Python lists for large-scale numerical operations.\n",
    "#NumPy arrays offer significant performance benefits over Python lists, especially for large-scale numerical operations. Here are some key reasons why:\n",
    "\n",
    "#1. Memory Efficiency\n",
    "\n",
    "#Homogeneous Data Types: All elements in a NumPy array are of the same data type, which allows for more efficient storage and access2.\n",
    "#2. Speed\n",
    "\n",
    "#Optimized C Implementation: Many NumPy operations are implemented in C, which is faster than Python’s interpreted code3.\n",
    "#3. Functionality\n",
    "##Rich Mathematical Functions: NumPy provides a wide range of built-in functions for mathematical, statistical, and linear algebra operations, which are optimized for performance4.\n",
    "#Broadcasting: This feature allows NumPy to perform operations on arrays of different shapes and sizes without the need for explicit resizing2.\n",
    "##4. Ease of Use\n",
    "##Concise Syntax: NumPy’s syntax for array operations is more concise and closer to mathematical notation, making the code easier to write and read2.\n",
    "##Performance Comparison Example\n",
    "\n",
    "\n",
    "import numpy as np\n",
    "import time\n",
    "\n",
    "# Using NumPy arrays\n",
    "array_size = 1000000\n",
    "numpy_array = np.arange(array_size)\n",
    "start_time = time.time()\n",
    "numpy_array = numpy_array * 2\n",
    "print(\"NumPy array time:\", time.time() - start_time)\n",
    "\n",
    "# Using Python lists\n",
    "python_list = list(range(array_size))\n",
    "start_time = time.time()\n",
    "python_list = [x * 2 for x in python_list]\n",
    "print(\"Python list time:\", time.time() - start_time)\n"
   ]
  },
  {
   "cell_type": "code",
   "execution_count": 5,
   "id": "8e8fa2ca-e906-4a03-b0ca-3e8ead200b24",
   "metadata": {},
   "outputs": [],
   "source": [
    "#7. Compare vstack() and hstack() functions in NumPy. Provide examples demonstrating their usage and output"
   ]
  },
  {
   "cell_type": "code",
   "execution_count": 6,
   "id": "e539a03a-cf62-41ae-b357-f96151c8a67d",
   "metadata": {},
   "outputs": [
    {
     "name": "stdout",
     "output_type": "stream",
     "text": [
      "[[1 2 3]\n",
      " [4 5 6]]\n",
      "[[1 4]\n",
      " [2 5]\n",
      " [3 6]]\n"
     ]
    },
    {
     "data": {
      "text/plain": [
       "'Direction:\\nvstack(): Stacks arrays vertically (adds rows).\\nhstack(): Stacks arrays horizontally (adds columns).\\nAxis:\\nvstack(): Concatenates along the first axis (axis=0).\\nhstack(): Concatenates along the second axis (axis=1).\\nShape Requirements:\\nvstack(): Arrays must have the same number of columns.\\nhstack(): Arrays must have the same number of rows.'"
      ]
     },
     "execution_count": 6,
     "metadata": {},
     "output_type": "execute_result"
    }
   ],
   "source": [
    "#The vstack() and hstack() functions in NumPy are used to stack arrays vertically and horizontally, respectively. Here’s a comparison and examples to illustrate their usage:\n",
    "\n",
    "#vstack()\n",
    "#Purpose: Stacks arrays in sequence vertically (row-wise).\n",
    "#Axis: Equivalent to concatenation along the first axis (axis=0).\n",
    "#Usage: Useful for adding rows to an existing array.\n",
    "\n",
    "\n",
    "import numpy as np\n",
    "\n",
    "# Creating two 1D arrays\n",
    "a = np.array([1, 2, 3])\n",
    "b = np.array([4, 5, 6])\n",
    "\n",
    "# Stacking arrays vertically\n",
    "result = np.vstack((a, b))\n",
    "print(result)\n",
    "\n",
    "\n",
    "\n",
    "##hstack()\n",
    "#Purpose: Stacks arrays in sequence horizontally (column-wise).\n",
    "#Axis: Equivalent to concatenation along the second axis (axis=1).\n",
    "#Usage: Useful for adding columns to an existing array.\n",
    "\n",
    "\n",
    "import numpy as np\n",
    "\n",
    "# Creating two 2D arrays\n",
    "a = np.array([[1], [2], [3]])\n",
    "b = np.array([[4], [5], [6]])\n",
    "\n",
    "# Stacking arrays horizontally\n",
    "result = np.hstack((a, b))\n",
    "print(result)\n",
    "\n",
    "\n",
    "\n",
    "\n",
    "##Key Differences:\n",
    "\"\"\"Direction:\n",
    "vstack(): Stacks arrays vertically (adds rows).\n",
    "hstack(): Stacks arrays horizontally (adds columns).\n",
    "Axis:\n",
    "vstack(): Concatenates along the first axis (axis=0).\n",
    "hstack(): Concatenates along the second axis (axis=1).\n",
    "Shape Requirements:\n",
    "vstack(): Arrays must have the same number of columns.\n",
    "hstack(): Arrays must have the same number of rows.\"\"\"\n"
   ]
  },
  {
   "cell_type": "code",
   "execution_count": 7,
   "id": "c2dfcc7c-f565-4c1d-943c-36fad2b87270",
   "metadata": {},
   "outputs": [],
   "source": [
    "#8. Explain the differences between fliplr() and flipud() methods in NumPy, including their effects on various\n",
    "#array dimensions."
   ]
  },
  {
   "cell_type": "code",
   "execution_count": 1,
   "id": "4c3d3535-40ac-4237-a21f-d8b17290cbf4",
   "metadata": {},
   "outputs": [
    {
     "name": "stdout",
     "output_type": "stream",
     "text": [
      "[[3 2 1]\n",
      " [6 5 4]\n",
      " [9 8 7]]\n",
      "[[7 8 9]\n",
      " [4 5 6]\n",
      " [1 2 3]]\n"
     ]
    }
   ],
   "source": [
    "\n",
    "#fliplr()\n",
    "#Function: Flips the array left to right.\n",
    "#Axis: Operates along the horizontal axis (axis 1).\n",
    "#Effect on 2D Arrays: Reverses the order of columns while keeping the rows intact.\n",
    "\n",
    "\n",
    "import numpy as np\n",
    "a = np.array([[1, 2, 3], [4, 5, 6], [7, 8, 9]])\n",
    "print(np.fliplr(a))\n",
    "\n",
    "\n",
    "#flipud()\n",
    "#Function: Flips the array upside down.\n",
    "#Axis: Operates along the vertical axis (axis 0).\n",
    "#Effect on 2D Arrays: Reverses the order of rows while keeping the columns intact.\n",
    "\n",
    "\n",
    "import numpy as np\n",
    "a = np.array([[1, 2, 3], [4, 5, 6], [7, 8, 9]])\n",
    "print(np.flipud(a))\n",
    "\n",
    "##Effects on Higher Dimensions\n",
    "#3D Arrays:\n",
    "#fliplr(): Reverses the order of elements along the second axis (axis 1).\n",
    "#flipud(): Reverses the order of elements along the first axis (axis 0).\n",
    "\n",
    "#fliplr(): Think of it as flipping the array from left to right, affecting columns.\n",
    "#flipud(): Think of it as flipping the array from top to bottom, affecting rows.\n",
    "#These functions are particularly useful for image processing, data manipulation, and other array-based operations12.\n"
   ]
  },
  {
   "cell_type": "raw",
   "id": "e4480c9a-f64c-419a-893a-89c33dc14a9f",
   "metadata": {},
   "source": [
    "#9. Discuss the functionality of the array_split() method in NumPy. How does it handle uneven splits?"
   ]
  },
  {
   "cell_type": "code",
   "execution_count": 4,
   "id": "e04f949f-87b1-4220-be8e-69ec03de5463",
   "metadata": {},
   "outputs": [
    {
     "name": "stdout",
     "output_type": "stream",
     "text": [
      "[array([0, 1, 2]), array([3, 4]), array([5, 6]), array([7, 8])]\n"
     ]
    }
   ],
   "source": [
    "#The array_split() method in NumPy is used to split an array into multiple sub-arrays. It’s particularly useful when you need to divide an array into parts that may not be of equal size. Here’s a detailed look at its functionality and how it handles uneven splits:\n",
    "\n",
    "#Functionality\n",
    "#Syntax: numpy.array_split(ary, indices_or_sections, axis=0)\n",
    "#ary: The input array to be split.\n",
    "##indices_or_sections: If an integer, it indicates the number of equal or near-equal sub-arrays to create. If a list of sorted integers, it specifies the points at which to split the array.\n",
    "#axis: The axis along which to split the array (default is 0).\n",
    "#Handling Uneven Splits\n",
    "#When the array cannot be evenly divided by the specified number of splits, array_split() ensures that the sub-arrays are as equal in size as possible. It distributes the remainder elements across the sub-arrays.\n",
    "\n",
    "\n",
    "\n",
    "import numpy as np\n",
    "\n",
    "# Create an array of 9 elements\n",
    "a = np.arange(9)\n",
    "\n",
    "# Split the array into 4 parts\n",
    "result = np.array_split(a, 4)\n",
    "print(result)\n",
    "\n",
    "\n",
    "#Comparison with split()\n",
    "#split(): Requires that the array be evenly divisible by the number of splits, otherwise it raises an error.\n",
    "#array_split(): Allows for uneven splits, making it more flexible for cases where equal division isn’t possible3.\n",
    "\n",
    "\n"
   ]
  },
  {
   "cell_type": "raw",
   "id": "d12352d9-b7a8-4138-a9be-050742f07636",
   "metadata": {},
   "source": [
    "10. Explain the concepts of vectorization and broadcasting in NumPy. How do they contribute to efficient array\n",
    "operations?"
   ]
  },
  {
   "cell_type": "code",
   "execution_count": 7,
   "id": "45d5f186-84f9-4d8e-bc65-f33595c8d44f",
   "metadata": {},
   "outputs": [
    {
     "name": "stdout",
     "output_type": "stream",
     "text": [
      "[5 7 9]\n",
      "[2 4 6]\n"
     ]
    }
   ],
   "source": [
    "#Vectorization in NumPy\n",
    "#Vectorization refers to the process of performing operations on entire arrays rather than individual elements. This approach leverages NumPy’s optimized C and Fortran libraries, making operations much faster compared to using Python loops.\n",
    "\n",
    "##Benefits:\n",
    "#Speed: Vectorized operations are significantly faster because they avoid the overhead of Python loops.\n",
    "#Simplicity: Code is more concise and easier to read.\n",
    "\n",
    "\n",
    "import numpy as np\n",
    "\n",
    "# Using vectorization to add two arrays\n",
    "a = np.array([1, 2, 3])\n",
    "b = np.array([4, 5, 6])\n",
    "c = a + b  # Vectorized addition\n",
    "print(c)\n",
    "\n",
    "\n",
    "\n",
    "#Broadcasting in NumPy\n",
    "#Broadcasting allows NumPy to perform operations on arrays of different shapes. It “stretches” the smaller array across the larger array so that they have compatible shapes for element-wise operations.\n",
    "\n",
    "#Rules:\n",
    "##If the arrays differ in their number of dimensions, the shape of the smaller array is padded with ones on its left side.\n",
    "3#If the shape of the arrays does not match in a dimension, the array with shape 1 in that dimension is stretched to match the other shape.\n",
    "##If the shapes are incompatible, a ValueError is raised.\n",
    "\n",
    "\n",
    "import numpy as np\n",
    "\n",
    "# Broadcasting a scalar to an array\n",
    "a = np.array([1, 2, 3])\n",
    "b = 2\n",
    "c = a * b  # Broadcasting\n",
    "print(c)\n",
    "\n",
    "##Contribution to Efficient Array Operations\n",
    "#Vectorization:\n",
    "##Reduces Overhead: By eliminating Python loops, vectorization reduces the overhead associated with loop control and iteration.\n",
    "#Optimized Computation: Operations are executed in compiled code, which is much faster than interpreted Python code.\n",
    "#Broadcasting:\n",
    "#Memory Efficiency: Broadcasting avoids making unnecessary copies of data, thus saving memory.\n",
    "#Simplifies Code: Allows for more intuitive and concise code when dealing with arrays of different shapes.\n",
    "\n"
   ]
  },
  {
   "cell_type": "raw",
   "id": "5705fd63-29ec-4191-a788-bf4e94671827",
   "metadata": {},
   "source": [
    "1. Create a 3x3 NumPy array with random integers between 1 and 100. Then, interchange its rows and columns."
   ]
  },
  {
   "cell_type": "code",
   "execution_count": 6,
   "id": "58776f9e-584e-42c1-88d0-8a28c874679f",
   "metadata": {},
   "outputs": [
    {
     "name": "stdout",
     "output_type": "stream",
     "text": [
      "\n",
      "transposed array:\n",
      "transposed array\n"
     ]
    }
   ],
   "source": [
    "import numpy as np\n",
    "array=np.random.randint(1,101,size=(3,3))\n",
    "transposed_array=array\n",
    "print(\"\\ntransposed array:\")\n",
    "print(\"transposed array\")\n",
    "\n",
    "\n"
   ]
  },
  {
   "cell_type": "raw",
   "id": "61cabe76-9a63-4a0f-a079-3e8c86af9376",
   "metadata": {},
   "source": [
    "2. Generate a 1D NumPy array with 10 elements. Reshape it into a 2x5 array, then into a 5x2 array"
   ]
  },
  {
   "cell_type": "code",
   "execution_count": 1,
   "id": "22cd7983-c722-499e-9d3b-1e1e5ecbe753",
   "metadata": {},
   "outputs": [
    {
     "name": "stdout",
     "output_type": "stream",
     "text": [
      "1D array:\n",
      "[0 1 2 3 4 5 6 7 8 9]\n",
      "\n",
      "2x5 array:\n",
      "[[0 1 2 3 4]\n",
      " [5 6 7 8 9]]\n",
      "\n",
      "5x2 array:\n",
      "[[0 1]\n",
      " [2 3]\n",
      " [4 5]\n",
      " [6 7]\n",
      " [8 9]]\n"
     ]
    }
   ],
   "source": [
    "import numpy as np\n",
    "\n",
    "# Create a 1D NumPy array with 10 elements\n",
    "array_1d = np.arange(10)\n",
    "\n",
    "# Reshape the 1D array into a 2x5 array\n",
    "array_2x5 = array_1d.reshape(2, 5)\n",
    "\n",
    "# Reshape the 2x5 array into a 5x2 array\n",
    "array_5x2 = array_2x5.reshape(5, 2)\n",
    "\n",
    "print(\"1D array:\")\n",
    "print(array_1d)\n",
    "print(\"\\n2x5 array:\")\n",
    "print(array_2x5)\n",
    "print(\"\\n5x2 array:\")\n",
    "print(array_5x2)"
   ]
  },
  {
   "cell_type": "raw",
   "id": "b46ef43c-e28a-427f-9471-7a2dd4b8e5f3",
   "metadata": {},
   "source": [
    "3. Create a 4x4 NumPy array with random float values. Add a border of zeros around it, resulting in a 6x6 array"
   ]
  },
  {
   "cell_type": "code",
   "execution_count": 3,
   "id": "09dcf87c-a4c2-4647-a715-daba93b67dc3",
   "metadata": {},
   "outputs": [
    {
     "name": "stdout",
     "output_type": "stream",
     "text": [
      "4x4 array with random float values:\n",
      "[[0.06613654 0.66964166 0.46904592 0.90890981]\n",
      " [0.96210437 0.54710598 0.8054433  0.37106212]\n",
      " [0.76259956 0.3143667  0.28595302 0.24356276]\n",
      " [0.42562671 0.47751881 0.29527252 0.6962513 ]]\n",
      "\n",
      "6x6 array with a border of zeros:\n",
      "[[0.         0.         0.         0.         0.         0.        ]\n",
      " [0.         0.06613654 0.66964166 0.46904592 0.90890981 0.        ]\n",
      " [0.         0.96210437 0.54710598 0.8054433  0.37106212 0.        ]\n",
      " [0.         0.76259956 0.3143667  0.28595302 0.24356276 0.        ]\n",
      " [0.         0.42562671 0.47751881 0.29527252 0.6962513  0.        ]\n",
      " [0.         0.         0.         0.         0.         0.        ]]\n"
     ]
    }
   ],
   "source": [
    "import numpy as np\n",
    "\n",
    "# Create a 4x4 array with random float values\n",
    "array_4x4 = np.random.rand(4, 4)\n",
    "\n",
    "# Add a border of zeros around the 4x4 array to make it 6x6\n",
    "array_6x6 = np.pad(array_4x4, pad_width=1, mode='constant', constant_values=0)\n",
    "\n",
    "print(\"4x4 array with random float values:\")\n",
    "print(array_4x4)\n",
    "print(\"\\n6x6 array with a border of zeros:\")\n",
    "print(array_6x6)"
   ]
  },
  {
   "cell_type": "raw",
   "id": "9082941a-95b3-4d38-95d9-df8000a0098a",
   "metadata": {},
   "source": [
    "4. Using NumPy, create an array of integers from 10 to 60 with a step of 5."
   ]
  },
  {
   "cell_type": "code",
   "execution_count": 4,
   "id": "4928dd98-4b74-4822-ac50-28243df31d11",
   "metadata": {},
   "outputs": [
    {
     "name": "stdout",
     "output_type": "stream",
     "text": [
      "Array of integers from 10 to 60 with a step of 5:\n",
      "[10 15 20 25 30 35 40 45 50 55 60]\n"
     ]
    }
   ],
   "source": [
    "import numpy as np\n",
    "\n",
    "# Create an array of integers from 10 to 60 with a step of 5\n",
    "array = np.arange(10, 65, 5)\n",
    "\n",
    "print(\"Array of integers from 10 to 60 with a step of 5:\")\n",
    "print(array)"
   ]
  },
  {
   "cell_type": "raw",
   "id": "ebc5ec60-4b3d-4191-91d5-c172826829cf",
   "metadata": {},
   "source": [
    "5. Create a NumPy array of strings ['python', 'numpy', 'pandas']. Apply different case transformations\n",
    "(uppercase, lowercase, title case, etc.) to each element."
   ]
  },
  {
   "cell_type": "code",
   "execution_count": 5,
   "id": "8cb4d473-211f-4622-a1e6-d1c200b36545",
   "metadata": {},
   "outputs": [
    {
     "name": "stdout",
     "output_type": "stream",
     "text": [
      "Original array:\n",
      "['python' 'numpy' 'pandas']\n",
      "\n",
      "Uppercase array:\n",
      "['PYTHON' 'NUMPY' 'PANDAS']\n",
      "\n",
      "Lowercase array:\n",
      "['python' 'numpy' 'pandas']\n",
      "\n",
      "Title case array:\n",
      "['Python' 'Numpy' 'Pandas']\n"
     ]
    }
   ],
   "source": [
    "import numpy as np\n",
    "\n",
    "# Create a NumPy array of strings\n",
    "array = np.array(['python', 'numpy', 'pandas'])\n",
    "\n",
    "# Apply different case transformations\n",
    "uppercase_array = np.char.upper(array)\n",
    "lowercase_array = np.char.lower(array)\n",
    "titlecase_array = np.char.title(array)\n",
    "\n",
    "print(\"Original array:\")\n",
    "print(array)\n",
    "print(\"\\nUppercase array:\")\n",
    "print(uppercase_array)\n",
    "print(\"\\nLowercase array:\")\n",
    "print(lowercase_array)\n",
    "print(\"\\nTitle case array:\")\n",
    "print(titlecase_array)"
   ]
  },
  {
   "cell_type": "raw",
   "id": "b33271f1-53c0-40d2-aaec-24339f0204f2",
   "metadata": {},
   "source": [
    "6. Generate a NumPy array of words. Insert a space between each character of every word in the array"
   ]
  },
  {
   "cell_type": "code",
   "execution_count": 6,
   "id": "b92fb06e-04e4-4409-8140-9b112dea4f1c",
   "metadata": {},
   "outputs": [
    {
     "name": "stdout",
     "output_type": "stream",
     "text": [
      "Original array:\n",
      "['python' 'numpy' 'pandas']\n",
      "\n",
      "Array with spaces between characters:\n",
      "['p y t h o n' 'n u m p y' 'p a n d a s']\n"
     ]
    }
   ],
   "source": [
    "import numpy as np\n",
    "\n",
    "# Create a NumPy array of words\n",
    "words = np.array(['python', 'numpy', 'pandas'])\n",
    "\n",
    "# Insert a space between each character of every word\n",
    "spaced_words = np.char.join(' ', words)\n",
    "\n",
    "print(\"Original array:\")\n",
    "print(words)\n",
    "print(\"\\nArray with spaces between characters:\")\n",
    "print(spaced_words)"
   ]
  },
  {
   "cell_type": "raw",
   "id": "c0205a09-352d-4a26-bacf-b8e33fd5649c",
   "metadata": {},
   "source": [
    "7. Create two 2D NumPy arrays and perform element-wise addition, subtraction, multiplication, and division."
   ]
  },
  {
   "cell_type": "code",
   "execution_count": 7,
   "id": "c4580b93-5e6f-4bdc-8091-ff660c0448f0",
   "metadata": {},
   "outputs": [
    {
     "name": "stdout",
     "output_type": "stream",
     "text": [
      "Array 1:\n",
      "[[1 2 3]\n",
      " [4 5 6]]\n",
      "\n",
      "Array 2:\n",
      "[[ 7  8  9]\n",
      " [10 11 12]]\n",
      "\n",
      "Element-wise addition:\n",
      "[[ 8 10 12]\n",
      " [14 16 18]]\n",
      "\n",
      "Element-wise subtraction:\n",
      "[[-6 -6 -6]\n",
      " [-6 -6 -6]]\n",
      "\n",
      "Element-wise multiplication:\n",
      "[[ 7 16 27]\n",
      " [40 55 72]]\n",
      "\n",
      "Element-wise division:\n",
      "[[0.14285714 0.25       0.33333333]\n",
      " [0.4        0.45454545 0.5       ]]\n"
     ]
    }
   ],
   "source": [
    "import numpy as np\n",
    "\n",
    "# Create two 2D NumPy arrays\n",
    "array1 = np.array([[1, 2, 3], [4, 5, 6]])\n",
    "array2 = np.array([[7, 8, 9], [10, 11, 12]])\n",
    "\n",
    "# Perform element-wise addition\n",
    "addition = np.add(array1, array2)\n",
    "\n",
    "# Perform element-wise subtraction\n",
    "subtraction = np.subtract(array1, array2)\n",
    "\n",
    "# Perform element-wise multiplication\n",
    "multiplication = np.multiply(array1, array2)\n",
    "\n",
    "# Perform element-wise division\n",
    "division = np.divide(array1, array2)\n",
    "\n",
    "print(\"Array 1:\")\n",
    "print(array1)\n",
    "print(\"\\nArray 2:\")\n",
    "print(array2)\n",
    "print(\"\\nElement-wise addition:\")\n",
    "print(addition)\n",
    "print(\"\\nElement-wise subtraction:\")\n",
    "print(subtraction)\n",
    "print(\"\\nElement-wise multiplication:\")\n",
    "print(multiplication)\n",
    "print(\"\\nElement-wise division:\")\n",
    "print(division)\n"
   ]
  },
  {
   "cell_type": "raw",
   "id": "83b8a11d-aa83-4e63-9ffa-9039d9c53788",
   "metadata": {},
   "source": [
    "8. Use NumPy to create a 5x5 identity matrix, then extract its diagonal elements."
   ]
  },
  {
   "cell_type": "code",
   "execution_count": 8,
   "id": "45bc1045-118e-4444-9f54-dc59ec576290",
   "metadata": {},
   "outputs": [
    {
     "name": "stdout",
     "output_type": "stream",
     "text": [
      "5x5 Identity Matrix:\n",
      "[[1. 0. 0. 0. 0.]\n",
      " [0. 1. 0. 0. 0.]\n",
      " [0. 0. 1. 0. 0.]\n",
      " [0. 0. 0. 1. 0.]\n",
      " [0. 0. 0. 0. 1.]]\n",
      "\n",
      "Diagonal Elements:\n",
      "[1. 1. 1. 1. 1.]\n"
     ]
    }
   ],
   "source": [
    "import numpy as np\n",
    "\n",
    "# Create a 5x5 identity matrix\n",
    "identity_matrix = np.eye(5)\n",
    "\n",
    "# Extract the diagonal elements\n",
    "diagonal_elements = np.diag(identity_matrix)\n",
    "\n",
    "print(\"5x5 Identity Matrix:\")\n",
    "print(identity_matrix)\n",
    "print(\"\\nDiagonal Elements:\")\n",
    "print(diagonal_elements)"
   ]
  },
  {
   "cell_type": "raw",
   "id": "cc081229-60f6-481a-bd09-548d5c42ace1",
   "metadata": {},
   "source": [
    "9. Generate a NumPy array of 100 random integers between 0 and 1000. Find and display all prime numbers in\n",
    "this array."
   ]
  },
  {
   "cell_type": "code",
   "execution_count": 9,
   "id": "2773143b-f64f-48da-b610-11cf71de1e6a",
   "metadata": {},
   "outputs": [
    {
     "name": "stdout",
     "output_type": "stream",
     "text": [
      "Random integers array:\n",
      "[821 927  90 941 271 364 716 734 100 492 163 954 674 275 550 245 981 136\n",
      " 993 257 453  24 475  32  77 487 649 812 460 710 215 259 219 243 789 648\n",
      " 105 941 939 822 320  28 265 975 773 500 928 819 674 533 232 935 104 998\n",
      " 352 966  48  29 512 488 797 344 473 421  99 381  18 650 185 201 800  77\n",
      " 758 737 771 984  43 235 931  83 828 694 890 230 962 723 288 530 139 767\n",
      " 851 783 211 189 466 104 477 350 369 228]\n",
      "\n",
      "Prime numbers in the array:\n",
      "[821, 941, 271, 163, 257, 487, 941, 773, 29, 797, 421, 43, 83, 139, 211]\n"
     ]
    }
   ],
   "source": [
    "import numpy as np\n",
    "\n",
    "# Function to check if a number is prime\n",
    "def is_prime(n):\n",
    "    if n <= 1:\n",
    "        return False\n",
    "    for i in range(2, int(np.sqrt(n)) + 1):\n",
    "        if n % i == 0:\n",
    "            return False\n",
    "    return True\n",
    "\n",
    "# Generate a NumPy array of 100 random integers between 0 and 1000\n",
    "random_integers = np.random.randint(0, 1001, size=100)\n",
    "\n",
    "# Find all prime numbers in the array\n",
    "prime_numbers = [num for num in random_integers if is_prime(num)]\n",
    "\n",
    "print(\"Random integers array:\")\n",
    "print(random_integers)\n",
    "print(\"\\nPrime numbers in the array:\")\n",
    "print(prime_numbers)\n",
    "\n",
    "\n",
    "\n"
   ]
  },
  {
   "cell_type": "raw",
   "id": "e3b0144b-950a-427e-97a3-5f3d24fbc6ff",
   "metadata": {},
   "source": [
    "10. Create a NumPy array representing daily temperatures for a month. Calculate and display the weekly\n",
    "averages."
   ]
  },
  {
   "cell_type": "code",
   "execution_count": 10,
   "id": "5cf5b942-7baa-45c9-a943-bc3339c3f50a",
   "metadata": {},
   "outputs": [
    {
     "name": "stdout",
     "output_type": "stream",
     "text": [
      "Daily temperatures for a month:\n",
      "[22.74743712 29.70591981 27.55177517 30.07659458 32.47656609 23.97333984\n",
      " 31.19991442 23.47984514 20.21232353 34.06710526 28.5908305  32.65611742\n",
      " 26.78276441 20.83296795 30.30928329 27.29197729 31.06627661 20.20305348\n",
      " 28.58246476 31.91877546 32.81249065 23.82422727 21.24682307 32.94612767\n",
      " 22.6388993  32.96972307 33.46230552 22.99903827 30.3096807  34.1200901 ]\n",
      "\n",
      "Weekly averages:\n",
      "[28.24736386181818, 26.660279172262353, 28.883474506807495, 27.15530631090553, 32.21488540289624]\n"
     ]
    }
   ],
   "source": [
    "import numpy as np\n",
    "\n",
    "# Generate a NumPy array of daily temperatures for a month (30 days)\n",
    "# For simplicity, let's use random temperatures between 20 and 35 degrees Celsius\n",
    "daily_temperatures = np.random.uniform(20, 35, 30)\n",
    "\n",
    "# Calculate the weekly averages\n",
    "weekly_averages = [np.mean(daily_temperatures[i:i+7]) for i in range(0, len(daily_temperatures), 7)]\n",
    "\n",
    "print(\"Daily temperatures for a month:\")\n",
    "print(daily_temperatures)\n",
    "print(\"\\nWeekly averages:\")\n",
    "print(weekly_averages)"
   ]
  },
  {
   "cell_type": "code",
   "execution_count": null,
   "id": "78b5e6ba-2b5a-4397-aab1-ff08fb185893",
   "metadata": {},
   "outputs": [],
   "source": []
  }
 ],
 "metadata": {
  "kernelspec": {
   "display_name": "Python 3 (ipykernel)",
   "language": "python",
   "name": "python3"
  },
  "language_info": {
   "codemirror_mode": {
    "name": "ipython",
    "version": 3
   },
   "file_extension": ".py",
   "mimetype": "text/x-python",
   "name": "python",
   "nbconvert_exporter": "python",
   "pygments_lexer": "ipython3",
   "version": "3.10.8"
  }
 },
 "nbformat": 4,
 "nbformat_minor": 5
}
